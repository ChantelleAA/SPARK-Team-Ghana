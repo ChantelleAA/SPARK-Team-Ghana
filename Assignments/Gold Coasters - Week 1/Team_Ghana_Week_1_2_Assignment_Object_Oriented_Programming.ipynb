{
  "cells": [
    {
      "cell_type": "markdown",
      "metadata": {
        "id": "eispJBJUKmjG"
      },
      "source": [
        "## Hello everybody 😃 😃 welcome back\n",
        "\n",
        "This assignment is for workshop_02 in Object_Oriented Programming (OOP) in python."
      ]
    },
    {
      "cell_type": "markdown",
      "metadata": {
        "id": "dDq4usPd48Hw"
      },
      "source": [
        "### Let's dive deeper 😁\n",
        "\n",
        "Object oriented programming is based on the idea of grouping data and functions together in what's called a class.\n"
      ]
    },
    {
      "cell_type": "markdown",
      "metadata": {
        "id": "Oh3kuN9XJz9m"
      },
      "source": [
        "## Let's see some main concepts 😃😃\n",
        "\n",
        "We can define a class by typing Class then the name of the class. we can also define variables inside the class and they could be only used within the class.\n",
        "\n",
        "The init function is where you add your variables. but this time we don't just declare the variables as before, but we add them as a self.variable_name to be accessible within all functions in the class.\n",
        "\n",
        "\n",
        "```\n",
        "class Person():\n",
        "  def __init__(name, age)\n",
        "    self.name = name\n",
        "    self.age = age\n",
        "\n",
        "  def check_age()\n",
        "    if self.age > 30:\n",
        "      print(True)\n",
        "\n",
        "\n",
        "\n",
        "  p = Person(\"Alice\" , 25)\n",
        "\n",
        "```\n",
        "\n",
        "So, here we created a class called person that we could define a name and age for.\n",
        "\n",
        "To use this class we create an instance from it which is called \"Object\" we just do as in the code. Name the object (in this case p) and give it the values needed by the init function.\n",
        "\n",
        "\n",
        "\n",
        "```\n",
        "print(p.check_age())\n",
        "\n",
        "False\n",
        "```\n",
        "\n",
        "We can also call functions from the class. Just like this ✅ ✅\n"
      ]
    },
    {
      "cell_type": "markdown",
      "metadata": {
        "id": "9EM_GIecNDCR"
      },
      "source": [
        "\n",
        "**Q1.**\n",
        " Consider the following example of a class of participants in a workshop. Add a variable 'pronoun' to the Participant class and make a method that can access to the pronoun of each partcipant and print it."
      ]
    },
    {
      "cell_type": "code",
      "execution_count": 1,
      "metadata": {
        "id": "ysLDm91jNg-c"
      },
      "outputs": [],
      "source": [
        "class Participant():\n",
        "  def __init__(self, name, job, country, age, pronoun):\n",
        "    self.name = name\n",
        "    self.job = job\n",
        "    self.country = country\n",
        "    self.age = age\n",
        "    self.pronoun = pronoun\n",
        "\n",
        "  def introduce(self):\n",
        "    intro = f'My name is {self.name}. I am from {self.country}.'\n",
        "    return (intro)\n",
        "\n",
        "  def career(self):\n",
        "    print(f'My job is {self.job}.')\n",
        "\n",
        "  def pronoun(self):\n",
        "    print(f'My pronoun is {self.pronoun}')"
      ]
    },
    {
      "cell_type": "markdown",
      "metadata": {
        "id": "pIdma5T4WSnW"
      },
      "source": [
        "**Q2.**\n",
        "Complete the Message class given below using the 'length' method to return the length of a message. Add an 'append' method that add the all tweets into the tweets list.\n",
        "\n",
        "Then try to make some objects based on the completed version of the class and apply the methods for them."
      ]
    },
    {
      "cell_type": "code",
      "execution_count": 5,
      "metadata": {
        "id": "SvgdwdQCZFLa"
      },
      "outputs": [],
      "source": [
        "import time\n",
        "class Message():\n",
        "  def __init__(self, owner, tweet):\n",
        "    self.owner = owner\n",
        "    self.tweet = tweet\n",
        "    self.time = time.time()\n",
        "    self.tweets = [tweet]\n",
        "\n",
        "  def tweeter(self):\n",
        "    print(f'{self.owner} is the author of the \\n{self.tweet}.')\n",
        "\n",
        "  def __len__(self):\n",
        "    return len(self.tweet)\n",
        "    #return the length and the owner of the tweet.\n",
        "\n",
        "  def append(self, new_tweet):\n",
        "    return self.tweets.append(new_tweet)\n"
      ]
    },
    {
      "cell_type": "markdown",
      "metadata": {
        "id": "yR8ccniB4rAk"
      },
      "source": [
        "**Q3.**\n",
        "Complete the Student class and implement the operator methods such as:\n",
        "1. \\__le__()\n",
        "2. \\__ge__()\n",
        "3. \\__eq__()\n",
        "4. \\__add__()\n",
        "5. \\__mul__()\n",
        "\n",
        "Then apply them over the objects of the class."
      ]
    },
    {
      "cell_type": "code",
      "execution_count": 7,
      "metadata": {
        "colab": {
          "base_uri": "https://localhost:8080/"
        },
        "id": "bAJ4GmbT72p0",
        "outputId": "305caf59-d566-4f3d-9774-32e692e51596"
      },
      "outputs": [
        {
          "name": "stdout",
          "output_type": "stream",
          "text": [
            "The sum of Anna and John's marks is: 140\n",
            "The product of Anna and John's marks is: 4800\n",
            "Anna's mark is greater than John's : True\n",
            "Anna's mark is less than John's : False\n",
            "Anna's mark is equal to John's : False\n"
          ]
        }
      ],
      "source": [
        "class Student():\n",
        "  def __init__(self, name, mark):\n",
        "    self.name = name\n",
        "    self.mark = mark\n",
        "\n",
        "  def __add__(self, other):\n",
        "    return self.mark + other.mark\n",
        "\n",
        "  def __le__(self, other):\n",
        "    return self.mark < other.mark\n",
        "\n",
        "  def __ge__(self, other):\n",
        "    return self.mark > other.mark\n",
        "\n",
        "  def __eq__(self, other):\n",
        "    return self.mark == other.mark\n",
        "\n",
        "  def __mul__(self, other):\n",
        "    return self.mark * other.mark\n",
        "\n",
        "s1 = Student('Anna', 80)\n",
        "s2 = Student('John', 60)\n",
        "\n",
        "print(f'The sum of {s1.name} and {s2.name}\\'s marks is: {s1.__add__(s2)}')\n",
        "print(f'The product of {s1.name} and {s2.name}\\'s marks is: {s1.__mul__(s2)}')\n",
        "\n",
        "print(f'{s1.name}\\'s mark is greater than {s2.name}\\'s : {s1.__ge__(s2)}')\n",
        "print(f'{s1.name}\\'s mark is less than {s2.name}\\'s : {s1.__le__(s2)}')\n",
        "print(f'{s1.name}\\'s mark is equal to {s2.name}\\'s : {s1.__eq__(s2)}')\n"
      ]
    }
  ],
  "metadata": {
    "colab": {
      "provenance": []
    },
    "kernelspec": {
      "display_name": "Python 3",
      "name": "python3"
    },
    "language_info": {
      "codemirror_mode": {
        "name": "ipython",
        "version": 3
      },
      "file_extension": ".py",
      "mimetype": "text/x-python",
      "name": "python",
      "nbconvert_exporter": "python",
      "pygments_lexer": "ipython3",
      "version": "3.9.18"
    }
  },
  "nbformat": 4,
  "nbformat_minor": 0
}
