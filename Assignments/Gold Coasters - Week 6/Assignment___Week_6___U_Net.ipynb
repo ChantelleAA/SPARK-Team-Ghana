{
  "cells": [
    {
      "cell_type": "markdown",
      "metadata": {
        "id": "z0ffSZLoVp1F"
      },
      "source": [
        "# SPARK Week 6 - Assignment\n",
        "Welcome to week 6! In this assignment, we will implement U-Net based on Pytorch to realize abnormality segmentation from Brain MRIs.\n",
        "\n",
        "FYI, this assignment was self-implemented to match \"McMedHacks Foundational Course\" as much as possible, which thus is not toally same as the tutorial you watched."
      ]
    },
    {
      "cell_type": "markdown",
      "metadata": {
        "id": "qV_f-VYWoFpy"
      },
      "source": [
        "### Mount on Google Drive\n"
      ]
    },
    {
      "cell_type": "code",
      "execution_count": null,
      "metadata": {
        "colab": {
          "base_uri": "https://localhost:8080/"
        },
        "id": "HQmqVUUZqbEE",
        "outputId": "e3058465-81af-4e72-e6bc-e50013fdd5bb"
      },
      "outputs": [
        {
          "output_type": "stream",
          "name": "stdout",
          "text": [
            "Mounted at /content/gdrive\n"
          ]
        }
      ],
      "source": [
        "from google.colab import drive\n",
        "drive.mount('/content/gdrive', force_remount=True)"
      ]
    },
    {
      "cell_type": "code",
      "execution_count": null,
      "metadata": {
        "colab": {
          "base_uri": "https://localhost:8080/"
        },
        "id": "GT-8NuBJtOmW",
        "outputId": "ba2e99f6-a156-4851-92f1-ed3f3caa1210"
      },
      "outputs": [
        {
          "output_type": "stream",
          "name": "stdout",
          "text": [
            "/content/gdrive/My Drive/Week 6 Assignments\n"
          ]
        }
      ],
      "source": [
        "%cd gdrive/My Drive/SPARK Week 6 Assignments/"
      ]
    },
    {
      "cell_type": "markdown",
      "metadata": {
        "id": "PpLqwKc9UjKl"
      },
      "source": [
        "### Imports"
      ]
    },
    {
      "cell_type": "code",
      "execution_count": null,
      "metadata": {
        "colab": {
          "base_uri": "https://localhost:8080/"
        },
        "id": "_7AAgEL2nHGg",
        "outputId": "8b52027c-3159-425f-81dc-a34192a6a128"
      },
      "outputs": [
        {
          "output_type": "stream",
          "name": "stdout",
          "text": [
            "\u001b[2K     \u001b[90m━━━━━━━━━━━━━━━━━━━━━━━━━━━━━━━━━━━━━━━\u001b[0m \u001b[32m151.8/151.8 kB\u001b[0m \u001b[31m6.0 MB/s\u001b[0m eta \u001b[36m0:00:00\u001b[0m\n",
            "\u001b[?25h  Preparing metadata (setup.py) ... \u001b[?25l\u001b[?25hdone\n",
            "\u001b[2K     \u001b[90m━━━━━━━━━━━━━━━━━━━━━━━━━━━━━━━━━━━━━━━━\u001b[0m \u001b[32m52.7/52.7 MB\u001b[0m \u001b[31m17.9 MB/s\u001b[0m eta \u001b[36m0:00:00\u001b[0m\n",
            "\u001b[?25h  Building wheel for MedPy (setup.py) ... \u001b[?25l\u001b[?25hdone\n"
          ]
        }
      ],
      "source": [
        "import os\n",
        "import random\n",
        "import pandas as pd\n",
        "import numpy as np\n",
        "from matplotlib import pyplot as plt\n",
        "from matplotlib.backends.backend_agg import FigureCanvasAgg\n",
        "import glob\n",
        "import cv2\n",
        "from tqdm import tqdm\n",
        "import torchvision\n",
        "from skimage.io import imread,imsave\n",
        "from collections import OrderedDict\n",
        "from torch.utils.data import DataLoader\n",
        "import torch\n",
        "import torch.nn as nn\n",
        "import torch.nn.functional as F\n",
        "import torch.optim as optim\n",
        "! pip install torch-summary --quiet\n",
        "! pip install MedPy --quiet\n",
        "from skimage.transform import rescale,rotate\n",
        "from torchvision.transforms import Compose\n",
        "from medpy.filter.binary import largest_connected_component\n",
        "from skimage.exposure import rescale_intensity\n",
        "from skimage.transform import resize\n",
        "\n",
        "device = torch.device('cuda' if torch.cuda.is_available() else 'cpu')"
      ]
    },
    {
      "cell_type": "markdown",
      "metadata": {
        "id": "ia3AtMLRU0Zz"
      },
      "source": [
        "### Dataset and Dataloader"
      ]
    },
    {
      "cell_type": "markdown",
      "metadata": {
        "id": "uiEarq0_f2so"
      },
      "source": [
        "### Preprocessing helper functions"
      ]
    },
    {
      "cell_type": "code",
      "execution_count": null,
      "metadata": {
        "id": "kon-8YCcgKlz"
      },
      "outputs": [],
      "source": [
        "# 1. cropping\n",
        "def crop_sample(x):\n",
        "  volume,mask = x\n",
        "  volume[volume< np.max(volume)*0.1] =0\n",
        "  #calculating z_proj\n",
        "  z_proj = np.max(np.max(np.max(volume, axis=-1),axis=-1),axis=-1)\n",
        "  z_nonzero = np.nonzero(z_proj)\n",
        "  z_min = np.min(z_nonzero)\n",
        "  z_max = np.max(z_nonzero)+1\n",
        "  #calculating y_proj\n",
        "  y_proj = np.max(np.max(np.max(volume, axis=0),axis=-1),axis=-1)\n",
        "  y_nonzero = np.nonzero(y_proj)\n",
        "  y_min = np.min(y_nonzero)\n",
        "  y_max = np.max(y_nonzero)+1\n",
        "  #calculating x_proj\n",
        "  x_proj = np.max(np.max(np.max(volume, axis=0),axis=0),axis=-1)\n",
        "  x_nonzero = np.nonzero(x_proj)\n",
        "  x_min = np.min(x_nonzero)\n",
        "  x_max = np.max(x_nonzero)+1\n",
        "  volume_cropped = volume[z_min:z_max,y_min:y_max,x_min:x_max]\n",
        "  mask_cropped = mask[z_min:z_max,y_min:y_max,x_min:x_max]\n",
        "\n",
        "  return volume_cropped, mask_cropped"
      ]
    },
    {
      "cell_type": "code",
      "execution_count": null,
      "metadata": {
        "id": "3gve8ECpgg-B"
      },
      "outputs": [],
      "source": [
        "#2. padding\n",
        "def pad_sample(x):\n",
        "  volume, mask=x\n",
        "  a = volume.shape[1]\n",
        "  b= volume.shape[2]\n",
        "  if a == b:\n",
        "    return volume,mask\n",
        "  diff = (max(a,b) - min(a,b))/2.0\n",
        "  if a>b:\n",
        "    padding =((0,0),(0,0),(int(np.floor(diff)),int(np.ceil(diff))))\n",
        "  else:\n",
        "    padding=((0,0),(int(np.floor(diff)),int(np.ceil(diff))),(0,0))\n",
        "  mask = np.pad(mask,padding, mode='constant', constant_values=0)\n",
        "  padding = padding+((0,0),)\n",
        "  volume = np.pad(volume, padding,mode='constant', constant_values=0)\n",
        "\n",
        "  return volume, mask"
      ]
    },
    {
      "cell_type": "code",
      "execution_count": null,
      "metadata": {
        "id": "tXs6HwQIgkuf"
      },
      "outputs": [],
      "source": [
        "#3. Resizing\n",
        "def resize_sample(x,size=256):\n",
        "  volume,mask=x\n",
        "  v_shape = volume.shape\n",
        "  out_shape = (v_shape[0],size,size)\n",
        "  mask = resize(\n",
        "      mask, output_shape=out_shape,\n",
        "      order=0,\n",
        "      mode='constant',\n",
        "      cval=0,\n",
        "      anti_aliasing= False,\n",
        "  )\n",
        "  out_shape = out_shape + (v_shape[3],)\n",
        "  volume = resize(\n",
        "      volume,\n",
        "      output_shape = out_shape,\n",
        "      order=2,\n",
        "      mode='constant',\n",
        "      cval=0,\n",
        "      anti_aliasing = False,\n",
        "  )\n",
        "  return volume, mask"
      ]
    },
    {
      "cell_type": "code",
      "execution_count": null,
      "metadata": {
        "id": "CfAkgYgrgooy"
      },
      "outputs": [],
      "source": [
        "# 4. Normalizing\n",
        "def normalize_volume(volume):\n",
        "  p10 = np.percentile(volume,10)\n",
        "  p99 = np.percentile(volume,99)\n",
        "  volume = rescale_intensity(volume, in_range=(p10,p99))\n",
        "  mean = np.mean(volume, axis=(0,1,2))\n",
        "  standard_dev = np.std(volume, axis=(0,1,2))\n",
        "  volume = (volume - mean)/standard_dev\n",
        "  return volume"
      ]
    },
    {
      "cell_type": "code",
      "execution_count": null,
      "metadata": {
        "id": "06b7_e_vV4AS"
      },
      "outputs": [],
      "source": [
        "#5. Logging\n",
        "def gray2rgb(image):\n",
        "  w,h = image.shape\n",
        "  image+=np.abs(np.min(image))\n",
        "  image_max = np.abs(np.max(image))\n",
        "  if image_max>0:\n",
        "    image/=image_max\n",
        "  ret = np.empty((w,h,3), dtype=np.uint8)\n",
        "  ret[:,:,2] = ret[:,:,1]= ret[:,:,0] = image*255\n",
        "  return ret\n",
        "\n",
        "def outline(image,mask,color):\n",
        "  mask= np.round(mask)\n",
        "  yy,xx = np.nonzero(mask)\n",
        "  for y,x in zip(yy,xx):\n",
        "    if 0.0 <np.mean(mask[max(0,y-1):y+2,max(0,x-1):x+2])<1.0:\n",
        "      image[max(0,y):y+1, max(0,x):x+1]=color\n",
        "  return image\n",
        "\n",
        "\n",
        "def log_images(x,y_true,y_pred,channel=1):\n",
        "  images=[]\n",
        "  x_np = x[:,channel].cpu().numpy()\n",
        "  y_true_np= y_true[:,channel].cpu().numpy()\n",
        "  y_pred_np =y_pred[:,channel].cpu().numpy()\n",
        "  for i in range(x_np.shape[0]):\n",
        "    image = gray2rgb(np.squeeze(x_np[i]))\n",
        "    image= outline(image,y_pred_np[i],colors=[255,0,0])\n",
        "    image = outline(image,y_true_np[i],colors=[0,255,0])\n",
        "    images.append(image)\n",
        "  return images"
      ]
    },
    {
      "cell_type": "markdown",
      "source": [
        "### Data augmentation helper functions"
      ],
      "metadata": {
        "id": "4KKzH3Pf3B-z"
      }
    },
    {
      "cell_type": "code",
      "execution_count": null,
      "metadata": {
        "id": "oK3yNsKthDbN"
      },
      "outputs": [],
      "source": [
        "#1. Rotation class\n",
        "class Rotate(object):\n",
        "  def __init__(self,angle):\n",
        "    self.angle = angle\n",
        "\n",
        "  def __call__(self,sample):\n",
        "    image,mask = sample\n",
        "    angle = np.random.uniform(low=-self.angle, high= self.angle)\n",
        "    image = rotate(image, angle,resize=False, preserve_range=True, mode=\"constant\")\n",
        "    mask= rotate(mask,angle,resize=False,order=0, preserve_range=True, mode=\"constant\")\n",
        "    return image, mask"
      ]
    },
    {
      "cell_type": "code",
      "execution_count": null,
      "metadata": {
        "id": "KLQZ9MPUhHMv"
      },
      "outputs": [],
      "source": [
        "#2. Horizontal flip class\n",
        "class HorizontalFlip(object):\n",
        "  def __init__(self,flip_prob):\n",
        "    self.flip_prob = flip_prob\n",
        "\n",
        "  def __call__(self,sample):\n",
        "    image,mask = sample\n",
        "\n",
        "    if np.random.rand()>self.flip_prob:\n",
        "      return image,mask\n",
        "\n",
        "    image = np.fliplr(image).copy()\n",
        "    mask = np.fliplr(mask).copy()\n",
        "\n",
        "    return image,mask"
      ]
    },
    {
      "cell_type": "code",
      "execution_count": null,
      "metadata": {
        "id": "DpI1QB5ohKuP"
      },
      "outputs": [],
      "source": [
        "#applying transform using all the helper function\n",
        "def transforms(angle=None, flip_prob=None):\n",
        "  transforms_list = []\n",
        "  if angle is not None:\n",
        "    transforms_list.append(Rotate(angle))\n",
        "  if flip_prob is not None:\n",
        "    transforms_list.append(HorizontalFlip(flip_prob))\n",
        "\n",
        "  return Compose(transforms_list)"
      ]
    },
    {
      "cell_type": "markdown",
      "metadata": {
        "id": "P0lazZkraP8M"
      },
      "source": [
        "### Train and validation split"
      ]
    },
    {
      "cell_type": "markdown",
      "source": [
        "<font color='green'>ToDo:</font>\n",
        "Write comments for the lines where you think it is hard to understand for \"BrainMRIDataset\""
      ],
      "metadata": {
        "id": "HRg9-Dds3z03"
      }
    },
    {
      "cell_type": "code",
      "execution_count": null,
      "metadata": {
        "id": "QOYWaogxdAbi"
      },
      "outputs": [],
      "source": [
        "class BrainMRIDataset(torch.utils.data.Dataset):\n",
        "  in_channels = 3\n",
        "  out_channels = 1\n",
        "\n",
        "  def __init__(self,images_dir, transform=None, image_size=256, subset=\"train\",random_sampling=True, validation_cases=10,seed=42):\n",
        "    assert subset in [\"all\",\"train\",\"val\"]\n",
        "    #reading images\n",
        "    image_volumes = {}\n",
        "    masks = {}\n",
        "    print(\"reading {} images and masks\".format(subset))\n",
        "    for (dir_path,dirnames,filenames) in os.walk(os.path.join(images_dir, subset)): #Walking through subfolders\n",
        "      image_slices = []\n",
        "      mask_slices = []\n",
        "      for filename in sorted(filter(lambda f: \"mask.tif\" in f,filenames),\n",
        "          key=lambda x: int(x.split(\".\")[-2].split(\"_\")[4])):\n",
        "        file_path = os.path.join(dir_path,filename)\n",
        "\n",
        "        mask_temp = imread(file_path,as_gray=True)\n",
        "        mask_temp = np.array(mask_temp > 0, np.float_)\n",
        "\n",
        "        if np.sum(mask_temp) > 0:\n",
        "          mask_slices.append(mask_temp)\n",
        "          image_slices.append(imread(file_path.replace('_mask.tif', '.tif'))) #Renaming and appending the file in one step\n",
        "\n",
        "      if len(image_slices)>0:\n",
        "        patient_id = dir_path.split(\"/\")[-1]\n",
        "        image_volumes[patient_id] = np.array(image_slices[1:-1])\n",
        "        masks[patient_id] = np.array(mask_slices[1:-1])\n",
        "        #Not 100% sure what is going on up there. Maybe 70%?\n",
        "\n",
        "    self.patients = sorted(image_volumes)\n",
        "\n",
        "    print(\"preprocessing {} volumes..\".format(subset))\n",
        "\n",
        "    self.image_volumes = [(image_volumes[k], masks[k]) for k in self.patients]\n",
        "\n",
        "    #cropping\n",
        "    print(\"cropping {} volumes\".format(subset))\n",
        "    self.image_volumes = [crop_sample(v) for v in self.image_volumes]\n",
        "\n",
        "    #padding\n",
        "    print(\"padding {} volumes\".format(subset))\n",
        "    self.image_volumes = [pad_sample(v) for v in self.image_volumes]\n",
        "\n",
        "    #resizing\n",
        "    print(\"Resizing {} volumes\".format(subset))\n",
        "    self.image_volumes = [resize_sample(v,size=image_size) for v in self.image_volumes]\n",
        "\n",
        "    #normalising\n",
        "    print(\"Normalising {} volumes\".format(subset))\n",
        "    self.image_volumes = [(normalize_volume(v),m) for v,m in self.image_volumes]\n",
        "\n",
        "    # probab for sampling slices based on masks\n",
        "    self.slice_weights = [m.sum(axis=-1).sum(axis=-1) for v,m in self.image_volumes]\n",
        "\n",
        "    self.slice_weights =[\n",
        "        (s +(s.sum()*0.1/len(s)))/(s.sum()*1.1) for s in self.slice_weights\n",
        "    ]\n",
        "\n",
        "    # A Lot of list comprehension going on.\n",
        "    #adding channel dimension to mask\n",
        "\n",
        "    self.image_volumes = [(v,m[...,np.newaxis]) for (v,m) in self.image_volumes]\n",
        "\n",
        "    print(\"Dataset creation done for {}\".format(subset))\n",
        "\n",
        "    #create global index for patient and slice\n",
        "\n",
        "    num_slices = [v.shape[0] for v,m in self.image_volumes]\n",
        "    self.patient_slice_index = list(\n",
        "        zip(\n",
        "            sum([[i]* num_slices[i] for i in range(len(num_slices))],[]),\n",
        "            sum([list(range(x)) for x in num_slices],[])\n",
        "        )\n",
        "    )\n",
        "    # Even more comprehension\n",
        "    self.random_sampling = random_sampling\n",
        "    self.transform = transform\n",
        "\n",
        "\n",
        "  def __len__(self):\n",
        "    return len(self.patient_slice_index)\n",
        "\n",
        "  def __getitem__(self,idx):\n",
        "    patient = self.patient_slice_index[idx][0]\n",
        "    slice_n = self.patient_slice_index[idx][1]\n",
        "\n",
        "    if self.random_sampling:\n",
        "      patient = np.random.randint(len(self.image_volumes))\n",
        "      slice_n = np.random.choice(\n",
        "          range(self.image_volumes[patient][0].shape[0]), p = self.slice_weights[patient])\n",
        "\n",
        "    v,m = self.image_volumes[patient]\n",
        "    image = v[slice_n]\n",
        "    mask = m[slice_n]\n",
        "\n",
        "    if self.transform is not None:\n",
        "      image,mask = self.transform((image,mask))\n",
        "\n",
        "    #fixing dimensions to match pytorch since transform is done via CV,\n",
        "    image = image.transpose(2,0,1)\n",
        "    mask = mask.transpose(2,0,1)\n",
        "\n",
        "    image_tensor = torch.from_numpy(image.astype(np.float32))\n",
        "    mask_tensor = torch.from_numpy(mask.astype(np.float32))\n",
        "\n",
        "    return image_tensor,mask_tensor\n"
      ]
    },
    {
      "cell_type": "code",
      "execution_count": null,
      "metadata": {
        "id": "noQlWs-Fbecq"
      },
      "outputs": [],
      "source": [
        "#creating data loader\n",
        "def datasets():\n",
        "  angle=10\n",
        "  image_size=128\n",
        "  images= \"kaggle_3m\"\n",
        "\n",
        "  train_dataset = BrainMRIDataset(\n",
        "      images_dir= images,\n",
        "      subset=\"train\",\n",
        "      image_size=image_size,\n",
        "      transform = transforms(angle=angle,flip_prob=0.5))\n",
        "\n",
        "  val_dataset = BrainMRIDataset(\n",
        "      images_dir= images,\n",
        "      subset=\"val\",\n",
        "      image_size=image_size,\n",
        "      random_sampling = False\n",
        "  )\n",
        "\n",
        "  print(\"training data size\", train_dataset.__len__())\n",
        "  print(\"validation data size\", val_dataset.__len__())\n",
        "  return train_dataset, val_dataset"
      ]
    },
    {
      "cell_type": "markdown",
      "source": [
        "<font color='green'>ToDo:</font>\n",
        "In the above data loading, we just selected the images slices with lesions, namely, (np.sum(mask_temp) > 0). What are the advantage and disadvantage about this operation.\n",
        "\n",
        "An advantage is to ensure the model only learns relevant features needed for segmentation, which can be efficient.\n",
        "\n",
        "A disadvantage is that the model may overfit, and not generalise properly due to a lack of negative features."
      ],
      "metadata": {
        "id": "CPPUWfxBqNyz"
      }
    },
    {
      "cell_type": "markdown",
      "metadata": {
        "id": "yNg3N7clh3cF"
      },
      "source": [
        "### Loss and Evaluation Matrices (<font color='green'>ToDo</font>)"
      ]
    },
    {
      "cell_type": "code",
      "execution_count": null,
      "metadata": {
        "id": "TFgYOumlRZ8W"
      },
      "outputs": [],
      "source": [
        "### ToDo ###\n",
        "# fil-up the Dice loss and score\n",
        "# Dice loss = 2 * interesection/total\n",
        "class DiceLoss(nn.Module):\n",
        "  def __init__(self):\n",
        "    super().__init__()\n",
        "    self.smooth = 1.0\n",
        "\n",
        "  def forward(self,y_pred,y_true):\n",
        "    assert y_pred.size() == y_true.size()\n",
        "    y_pred = y_pred[:,0].contiguous().view(-1)\n",
        "    y_true = y_true[:,0].contiguous().view(-1)\n",
        "\n",
        "    intersection = (y_pred * y_true).sum()\n",
        "    dice_score = (2.0 * intersection + self.smooth) / (\n",
        "        y_pred.sum() + y_true.sum() + self.smooth)\n",
        "\n",
        "    return 1.0 - dice_score\n",
        "\n",
        "#general helper function\n",
        "def dice_score(y_pred, y_true):\n",
        "  if np.any(y_pred):\n",
        "    y_pred = np.round(y_pred).astype(int)\n",
        "    y_true = np.round(y_true).astype(int)\n",
        "    y_pred = largest_connected_component(y_pred)\n",
        "\n",
        "    ## ToDo\n",
        "    intersection = (y_pred * y_true).sum()\n",
        "    smooth = 1.0\n",
        "    dice = (2.0 * intersection + smooth) / (y_pred.sum() + y_true.sum() + smooth)\n",
        "\n",
        "  return dice\n",
        "\n",
        "def dice_score_per_vol(val_pred,val_true, patient_slice_index):\n",
        "  dsc_list = []\n",
        "  num_slices = np.bincount([p[0] for p in patient_slice_index])\n",
        "  index=0\n",
        "  for p in range(len(num_slices)):\n",
        "    y_pred = np.array(val_pred[index:index+num_slices[p]])\n",
        "    y_true = np.array(val_true[index:index+num_slices[p]])\n",
        "    dsc_list.append(dice_score(y_pred,y_true))\n",
        "    index += num_slices[p]\n",
        "\n",
        "  return dsc_list"
      ]
    },
    {
      "cell_type": "markdown",
      "metadata": {
        "id": "m-qcpHIZZsOY"
      },
      "source": [
        "### Network (<font color='green'>ToDo</font>)"
      ]
    },
    {
      "cell_type": "code",
      "execution_count": null,
      "metadata": {
        "id": "3rV9ktECSYRz"
      },
      "outputs": [],
      "source": [
        "class UNET(nn.Module):\n",
        "    def _init_(self, input_channels=3, output_channels=1, num_features=32):\n",
        "        super()._init_()\n",
        "        features = num_features\n",
        "\n",
        "        # architecture of Unet3D deriving conv blocks\n",
        "        # Stage 1\n",
        "        self.encoder1 = UNET.conv_block(input_channels, features, name=\"enc1_\")\n",
        "        self.pool1 = nn.MaxPool2d(kernel_size=2, stride=2)\n",
        "\n",
        "        # Stage 2\n",
        "        self.encoder2 = UNET.conv_block(features, features*2, name=\"enc2_\")\n",
        "        self.pool2 = nn.MaxPool2d(kernel_size=2, stride=2)\n",
        "\n",
        "        # Stage 3\n",
        "        self.encoder3 = UNET.conv_block(features*2, features*4, name=\"enc3_\")\n",
        "        self.pool3 = nn.MaxPool2d(kernel_size=2, stride=2)\n",
        "\n",
        "        # Stage 4\n",
        "        self.encoder4 = UNET.conv_block(features*4, features*8, name=\"enc4_\")\n",
        "        self.pool4 = nn.MaxPool2d(kernel_size=2, stride=2)\n",
        "\n",
        "        # Stage 5 - Bottom part of U, Bottleneck\n",
        "        self.bottleneck = UNET.conv_block(features*8, features*16, name=\"bottleneck_\")\n",
        "\n",
        "        # Stage 6 - Going up in the U in the decoder layer\n",
        "        self.upconv4 = nn.ConvTranspose2d(features*16, features*8, kernel_size=2, stride=2)\n",
        "        self.decoder4 = UNET.conv_block(features*16, features*8, name='dec4_')\n",
        "\n",
        "        # Stage 7 - Going up in the U in the decoder layer\n",
        "        self.upconv3 = nn.ConvTranspose2d(features*8, features*4, kernel_size=2, stride=2)\n",
        "        self.decoder3 = UNET.conv_block(features*8, features*4, name='dec3_')\n",
        "\n",
        "        # Stage 8 - Going up in the U in the decoder layer\n",
        "        self.upconv2 = nn.ConvTranspose2d(features*4, features*2, kernel_size=2, stride=2)\n",
        "        self.decoder2 = UNET.conv_block(features*4, features*2, name='dec2_')\n",
        "\n",
        "        # Stage 9 - Going up in the U in the decoder layer\n",
        "        self.upconv1 = nn.ConvTranspose2d(features*2, features, kernel_size=2, stride=2)\n",
        "        self.decoder1 = UNET.conv_block(features*2, features, name='dec1_')\n",
        "\n",
        "        # mask generation conv layer\n",
        "        self.final_conv = nn.Conv2d(features, output_channels, kernel_size=1)\n",
        "\n",
        "    def forward(self, x):\n",
        "        # encoder pass\n",
        "        enc1 = self.encoder1(x)\n",
        "        x = self.pool1(enc1)\n",
        "        enc2 = self.encoder2(x)\n",
        "        x = self.pool2(enc2)\n",
        "        enc3 = self.encoder3(x)\n",
        "        x = self.pool3(enc3)\n",
        "        enc4 = self.encoder4(x)\n",
        "        x = self.pool4(enc4)\n",
        "        x = self.bottleneck(x)\n",
        "\n",
        "        # decoder pass\n",
        "        x = self.upconv4(x)\n",
        "        x = torch.cat([x, enc4], dim=1)\n",
        "        x = self.decoder4(x)\n",
        "        x = self.upconv3(x)\n",
        "        x = torch.cat([x, enc3], dim=1)\n",
        "        x = self.decoder3(x)\n",
        "        x = self.upconv2(x)\n",
        "        x = torch.cat([x, enc2], dim=1)\n",
        "        x = self.decoder2(x)\n",
        "        x = self.upconv1(x)\n",
        "        x = torch.cat([x, enc1], dim=1)\n",
        "        x = self.decoder1(x)\n",
        "        x = self.final_conv(x)\n",
        "        return torch.sigmoid(x)\n",
        "\n",
        "    @staticmethod\n",
        "    def conv_block(in_channels, num_features, name):\n",
        "        return nn.Sequential(\n",
        "            OrderedDict([\n",
        "                (name + \"conv1\", nn.Conv2d(in_channels, num_features, kernel_size=3, padding=1)),\n",
        "                (name + \"bn1\", nn.BatchNorm2d(num_features)),\n",
        "                (name + \"relu1\", nn.ReLU(inplace=True)),\n",
        "                (name + \"conv2\", nn.Conv2d(num_features, num_features, kernel_size=3, padding=1)),\n",
        "                (name + \"bn2\", nn.BatchNorm2d(num_features)),\n",
        "                (name + \"relu2\", nn.ReLU(inplace=True)),\n",
        "            ])\n",
        "        )\n",
        "\n",
        "device = torch.device(\"cuda\" if torch.cuda.is_available() else \"cpu\")\n",
        "network = UNET.to(device)"
      ]
    },
    {
      "cell_type": "markdown",
      "metadata": {
        "id": "X82PEwzSZvXg"
      },
      "source": [
        "### Training"
      ]
    },
    {
      "cell_type": "code",
      "source": [
        "dice_loss = DiceLoss()\n",
        "best_val_dice_score=0.0\n",
        "\n",
        "num_epochs=25\n",
        "batch_size = 4\n",
        "\n",
        "optimizer = optim.SGD(network.parameters(), lr=0.001)\n",
        "train_loss = []\n",
        "val_loss = []\n",
        "step = 0\n",
        "\n",
        "# initialising the data loaders\n",
        "train_data, val_data = datasets()\n",
        "\n",
        "train_loader = DataLoader(\n",
        "    train_data,batch_size=4, shuffle=True,\n",
        "    drop_last = True, num_workers=4\n",
        ")\n",
        "\n",
        "val_loader = DataLoader(\n",
        "    val_data, batch_size=4, shuffle = True,\n",
        "    drop_last=True, num_workers =4)\n",
        "\n",
        "loaders = {'train':train_loader,'val':val_loader}"
      ],
      "metadata": {
        "id": "RFUuQiFZrLmD"
      },
      "execution_count": null,
      "outputs": []
    },
    {
      "cell_type": "code",
      "execution_count": null,
      "metadata": {
        "colab": {
          "base_uri": "https://localhost:8080/"
        },
        "id": "7K_GSHDCVUXB",
        "outputId": "cae73a9f-c8ac-4ca2-e3a2-3d6f65fc7704"
      },
      "outputs": [
        {
          "output_type": "stream",
          "name": "stderr",
          "text": [
            "\r  0%|          | 0/25 [00:00<?, ?it/s]"
          ]
        },
        {
          "output_type": "stream",
          "name": "stdout",
          "text": [
            "step - 276, val_loss-0.8647192964951197\n"
          ]
        },
        {
          "output_type": "stream",
          "name": "stderr",
          "text": [
            "\r  4%|▍         | 1/25 [00:16<06:26, 16.09s/it]"
          ]
        },
        {
          "output_type": "stream",
          "name": "stdout",
          "text": [
            "step- 276, mean dice score- 0.14656584402804199\n",
            "step - 552, val_loss-0.8570237904787064\n",
            "step- 552, mean dice score- 0.2214763692138743\n"
          ]
        },
        {
          "output_type": "stream",
          "name": "stderr",
          "text": [
            "\r  8%|▊         | 2/25 [00:31<06:01, 15.73s/it]"
          ]
        },
        {
          "output_type": "stream",
          "name": "stdout",
          "text": [
            "step - 828, val_loss-0.8495049476623535\n",
            "step- 828, mean dice score- 0.24784232315581675\n"
          ]
        },
        {
          "output_type": "stream",
          "name": "stderr",
          "text": [
            "\r 12%|█▏        | 3/25 [00:51<06:27, 17.61s/it]"
          ]
        },
        {
          "output_type": "stream",
          "name": "stdout",
          "text": [
            "step - 1104, val_loss-0.8439888954162598\n",
            "step- 1104, mean dice score- 0.3059677706684894\n"
          ]
        },
        {
          "output_type": "stream",
          "name": "stderr",
          "text": [
            "\r 16%|█▌        | 4/25 [01:10<06:19, 18.07s/it]"
          ]
        },
        {
          "output_type": "stream",
          "name": "stdout",
          "text": [
            "step - 1380, val_loss-0.8290849228700002\n",
            "step- 1380, mean dice score- 0.40257276446091594\n"
          ]
        },
        {
          "output_type": "stream",
          "name": "stderr",
          "text": [
            "\r 20%|██        | 5/25 [01:26<05:47, 17.37s/it]"
          ]
        },
        {
          "output_type": "stream",
          "name": "stdout",
          "text": [
            "step- 1499, train_loss-0.8501455144853572\n"
          ]
        },
        {
          "output_type": "stream",
          "name": "stderr",
          "text": [
            "\r 24%|██▍       | 6/25 [01:39<05:02, 15.93s/it]"
          ]
        },
        {
          "output_type": "stream",
          "name": "stdout",
          "text": [
            "step - 1656, val_loss-0.8188187976678213\n",
            "step- 1656, mean dice score- 0.30983312696664034\n",
            "step - 1932, val_loss-0.8092520932356516\n",
            "step- 1932, mean dice score- 0.5143905273925957\n"
          ]
        },
        {
          "output_type": "stream",
          "name": "stderr",
          "text": [
            "\r 28%|██▊       | 7/25 [01:51<04:25, 14.76s/it]"
          ]
        },
        {
          "output_type": "stream",
          "name": "stdout",
          "text": [
            "step - 2208, val_loss-0.800496886173884\n",
            "step- 2208, mean dice score- 0.5487000224200236\n"
          ]
        },
        {
          "output_type": "stream",
          "name": "stderr",
          "text": [
            "\r 32%|███▏      | 8/25 [02:04<04:00, 14.18s/it]"
          ]
        },
        {
          "output_type": "stream",
          "name": "stdout",
          "text": [
            "step - 2484, val_loss-0.7916246155897776\n",
            "step- 2484, mean dice score- 0.5515607125829696\n"
          ]
        },
        {
          "output_type": "stream",
          "name": "stderr",
          "text": [
            "\r 36%|███▌      | 9/25 [02:16<03:35, 13.46s/it]"
          ]
        },
        {
          "output_type": "stream",
          "name": "stdout",
          "text": [
            "step - 2760, val_loss-0.7746042360862097\n",
            "step- 2760, mean dice score- 0.5604034704735021\n"
          ]
        },
        {
          "output_type": "stream",
          "name": "stderr",
          "text": [
            "\r 40%|████      | 10/25 [02:29<03:18, 13.22s/it]"
          ]
        },
        {
          "output_type": "stream",
          "name": "stdout",
          "text": [
            "step- 2999, train_loss-0.7953084884484609\n"
          ]
        },
        {
          "output_type": "stream",
          "name": "stderr",
          "text": [
            "\r 44%|████▍     | 11/25 [02:41<02:59, 12.85s/it]"
          ]
        },
        {
          "output_type": "stream",
          "name": "stdout",
          "text": [
            "step - 3036, val_loss-0.764484648903211\n",
            "step- 3036, mean dice score- 0.5619097336343761\n"
          ]
        },
        {
          "output_type": "stream",
          "name": "stderr",
          "text": [
            "\r 48%|████▊     | 12/25 [02:53<02:44, 12.67s/it]"
          ]
        },
        {
          "output_type": "stream",
          "name": "stdout",
          "text": [
            "step - 3312, val_loss-0.7349792222181956\n",
            "step- 3312, mean dice score- 0.6647543971224243\n"
          ]
        },
        {
          "output_type": "stream",
          "name": "stderr",
          "text": [
            "\r 52%|█████▏    | 13/25 [03:05<02:29, 12.47s/it]"
          ]
        },
        {
          "output_type": "stream",
          "name": "stdout",
          "text": [
            "step - 3588, val_loss-0.7183194359143575\n",
            "step- 3588, mean dice score- 0.611192311153414\n"
          ]
        },
        {
          "output_type": "stream",
          "name": "stderr",
          "text": [
            "\r 56%|█████▌    | 14/25 [03:17<02:15, 12.35s/it]"
          ]
        },
        {
          "output_type": "stream",
          "name": "stdout",
          "text": [
            "step - 3864, val_loss-0.6910296728213629\n",
            "step- 3864, mean dice score- 0.6145124283096555\n"
          ]
        },
        {
          "output_type": "stream",
          "name": "stderr",
          "text": [
            "\r 60%|██████    | 15/25 [03:29<02:02, 12.22s/it]"
          ]
        },
        {
          "output_type": "stream",
          "name": "stdout",
          "text": [
            "step - 4140, val_loss-0.6727059384187063\n",
            "step- 4140, mean dice score- 0.5467416545583681\n"
          ]
        },
        {
          "output_type": "stream",
          "name": "stderr",
          "text": [
            "\r 64%|██████▍   | 16/25 [03:40<01:47, 11.98s/it]"
          ]
        },
        {
          "output_type": "stream",
          "name": "stdout",
          "text": [
            "step - 4416, val_loss-0.6327741394440333\n",
            "step- 4416, mean dice score- 0.5289788323405078\n",
            "step- 4499, train_loss-0.7109630585908889\n"
          ]
        },
        {
          "output_type": "stream",
          "name": "stderr",
          "text": [
            "\r 68%|██████▊   | 17/25 [03:53<01:36, 12.00s/it]"
          ]
        },
        {
          "output_type": "stream",
          "name": "stdout",
          "text": [
            "step - 4692, val_loss-0.5985259910424551\n",
            "step- 4692, mean dice score- 0.6706734522728044\n"
          ]
        },
        {
          "output_type": "stream",
          "name": "stderr",
          "text": [
            "\r 72%|███████▏  | 18/25 [04:05<01:24, 12.10s/it]"
          ]
        },
        {
          "output_type": "stream",
          "name": "stdout",
          "text": [
            "step - 4968, val_loss-0.5712544520696005\n",
            "step- 4968, mean dice score- 0.6389134055411625\n"
          ]
        },
        {
          "output_type": "stream",
          "name": "stderr",
          "text": [
            "\r 76%|███████▌  | 19/25 [04:17<01:12, 12.04s/it]"
          ]
        },
        {
          "output_type": "stream",
          "name": "stdout",
          "text": [
            "step - 5244, val_loss-0.5344578971465429\n",
            "step- 5244, mean dice score- 0.6152446940409153\n"
          ]
        },
        {
          "output_type": "stream",
          "name": "stderr",
          "text": [
            "\r 80%|████████  | 20/25 [04:29<01:00, 12.02s/it]"
          ]
        },
        {
          "output_type": "stream",
          "name": "stdout",
          "text": [
            "step - 5520, val_loss-0.5036546091238657\n",
            "step- 5520, mean dice score- 0.5896283741244723\n"
          ]
        },
        {
          "output_type": "stream",
          "name": "stderr",
          "text": [
            "\r 84%|████████▍ | 21/25 [04:41<00:47, 11.98s/it]"
          ]
        },
        {
          "output_type": "stream",
          "name": "stdout",
          "text": [
            "step - 5796, val_loss-0.44807396332422894\n",
            "step- 5796, mean dice score- 0.6329767440035048\n",
            "step- 5999, train_loss-0.5462917091846466\n"
          ]
        },
        {
          "output_type": "stream",
          "name": "stderr",
          "text": [
            "\r 88%|████████▊ | 22/25 [04:52<00:35, 11.84s/it]"
          ]
        },
        {
          "output_type": "stream",
          "name": "stdout",
          "text": [
            "step - 6072, val_loss-0.4410252074400584\n",
            "step- 6072, mean dice score- 0.6142707184693731\n"
          ]
        },
        {
          "output_type": "stream",
          "name": "stderr",
          "text": [
            "\r 92%|█████████▏| 23/25 [05:04<00:23, 11.77s/it]"
          ]
        },
        {
          "output_type": "stream",
          "name": "stdout",
          "text": [
            "step - 6348, val_loss-0.40554775794347125\n",
            "step- 6348, mean dice score- 0.5980782805824882\n"
          ]
        },
        {
          "output_type": "stream",
          "name": "stderr",
          "text": [
            "\r 96%|█████████▌| 24/25 [05:16<00:11, 11.83s/it]"
          ]
        },
        {
          "output_type": "stream",
          "name": "stdout",
          "text": [
            "step - 6624, val_loss-0.3900434970855713\n",
            "step- 6624, mean dice score- 0.5750454337034274\n"
          ]
        },
        {
          "output_type": "stream",
          "name": "stderr",
          "text": [
            "100%|██████████| 25/25 [05:28<00:00, 13.15s/it]"
          ]
        },
        {
          "output_type": "stream",
          "name": "stdout",
          "text": [
            "step - 6900, val_loss-0.35635924835999805\n",
            "step- 6900, mean dice score- 0.6604847178766611\n",
            "Best val mean dice score -0.6706734522728044\n"
          ]
        },
        {
          "output_type": "stream",
          "name": "stderr",
          "text": [
            "\n"
          ]
        }
      ],
      "source": [
        "# training loop\n",
        "\n",
        "for epoch in tqdm(range(num_epochs),total=num_epochs):\n",
        "  for phase in [\"train\", \"val\"]:\n",
        "    if phase == \"train\":\n",
        "      network.train()\n",
        "    else:\n",
        "      network.eval()\n",
        "\n",
        "    val_pred = []\n",
        "    val_true = []\n",
        "\n",
        "    for i, data in enumerate(loaders[phase]):\n",
        "      if phase ==\"train\":\n",
        "        step+=1\n",
        "\n",
        "      x, y_true = data\n",
        "      x,y_true = x.to(device), y_true.to(device)\n",
        "\n",
        "      optimizer.zero_grad()\n",
        "\n",
        "      with torch.set_grad_enabled(phase==\"train\"):\n",
        "        y_pred = network(x)\n",
        "\n",
        "        loss = dice_loss(y_pred,y_true)\n",
        "\n",
        "        if phase == \"val\":\n",
        "          val_loss.append(loss.item())\n",
        "          y_pred_np = y_pred.detach().cpu().numpy()\n",
        "          val_pred.extend(\n",
        "              [y_pred_np[s] for s in range(y_pred_np.shape[0])]\n",
        "          )\n",
        "\n",
        "          y_true_np= y_true.detach().cpu().numpy()\n",
        "          val_true.extend(\n",
        "              [y_true_np[s] for s in range(y_true_np.shape[0])]\n",
        "          )\n",
        "\n",
        "        if phase == \"train\":\n",
        "          train_loss.append(loss.item())\n",
        "          loss.backward()\n",
        "          optimizer.step()\n",
        "\n",
        "      if phase ==\"train\" and (step+1)%1500 ==0:\n",
        "        print(\"step- {}, train_loss-{}\".format(step,sum(train_loss)/len(train_loss)))\n",
        "        train_loss = []\n",
        "\n",
        "  if phase ==\"val\":\n",
        "    print(\"step - {}, val_loss-{}\".format(step,sum(val_loss)/len(val_loss)))\n",
        "    mean_dice_score = np.mean(\n",
        "        dice_score_per_vol(val_pred, val_true,\n",
        "                           val_loader.dataset.patient_slice_index)\n",
        "\n",
        "    )\n",
        "    print(\"step- {}, mean dice score- {}\".format(step,mean_dice_score))\n",
        "\n",
        "    if mean_dice_score > best_val_dice_score:\n",
        "        best_val_dice_score = mean_dice_score\n",
        "        torch.save(network.state_dict(),\"unet_brain_mri.pth\")\n",
        "    val_loss = []\n",
        "\n",
        "print(\"Best val mean dice score -{}\".format(best_val_dice_score))"
      ]
    },
    {
      "cell_type": "markdown",
      "metadata": {
        "id": "bLWTsDFJWgbP"
      },
      "source": [
        "### Evaluation"
      ]
    },
    {
      "cell_type": "code",
      "execution_count": null,
      "metadata": {
        "colab": {
          "base_uri": "https://localhost:8080/"
        },
        "id": "F0s5Kn6bij-_",
        "outputId": "2e1d9393-0253-46f8-c9ae-5d7d0db5b8af"
      },
      "outputs": [
        {
          "output_type": "stream",
          "name": "stderr",
          "text": [
            "/usr/local/lib/python3.10/dist-packages/torch/utils/data/dataloader.py:561: UserWarning: This DataLoader will create 4 worker processes in total. Our suggested max number of worker in current system is 2, which is smaller than what this DataLoader is going to create. Please be aware that excessive worker creation might get DataLoader running slow or even freeze, lower the worker number to avoid potential slowness/freeze if necessary.\n",
            "  warnings.warn(_create_warning_msg(\n",
            "12it [00:00, 24.57it/s]\n"
          ]
        }
      ],
      "source": [
        "phase = \"val\"\n",
        "with torch.set_grad_enabled(False):\n",
        "  #loading the dataset\n",
        "  #state_dict = torch.load(\"unet_brain_mri.pt\", map_location=device)\n",
        "  #unet.load_state_dict(state_dict)\n",
        "  network.eval()\n",
        "  network.to(device)\n",
        "\n",
        "  input_list=[]\n",
        "  pred_list = []\n",
        "  true_list = []\n",
        "\n",
        "  for i, date in tqdm(enumerate(loaders[phase])):\n",
        "    x,y_true = data\n",
        "    x,y_true = x.to(device),y_true.to(device)\n",
        "    y_pred = network(x)\n",
        "\n",
        "    y_pred_np = y_pred.detach().cpu().numpy()\n",
        "    pred_list.extend([y_pred_np[s] for s in range(y_pred_np.shape[0])])\n",
        "\n",
        "    y_true_np = y_true.detach().cpu().numpy()\n",
        "    true_list.extend(\n",
        "              [y_true_np[s] for s in range(y_true_np.shape[0])]\n",
        "          )\n",
        "\n",
        "    x_np = x.detach().cpu().numpy()\n",
        "    input_list.extend(\n",
        "              [x_np[s] for s in range(x_np.shape[0])]\n",
        "          )\n",
        "\n",
        "\n",
        "def postprocess_per_volume(input_list, pred_list,true_list,patient_slice_index,patients):\n",
        "  volumes={}\n",
        "  num_slices = np.bincount([p[0] for p in patient_slice_index])\n",
        "  index = 0\n",
        "  for p in range(len(num_slices)):\n",
        "    volume_in = np.array(input_list[index:index+num_slices[p]])\n",
        "    volume_pred = np.round(\n",
        "        np.array(pred_list[index:index+num_slices[p]])\n",
        "    ).astype(int)\n",
        "    for pp in range(volume_pred.shape[0]):\n",
        "      volume_pred[pp, :, ...] = largest_connected_component(volume_pred[pp, :, ...])\n",
        "    volume_true = np.array(true_list[index:index+num_slices[p]])\n",
        "\n",
        "    volumes[patients[p]] = (volume_in, volume_pred, volume_true)\n",
        "    index+= num_slices[p]\n",
        "\n",
        "  return volumes"
      ]
    },
    {
      "cell_type": "code",
      "execution_count": null,
      "metadata": {
        "colab": {
          "base_uri": "https://localhost:8080/"
        },
        "id": "kQ9b_bOgixJ6",
        "outputId": "8d1e6322-47d4-4818-9a6a-d90b9f9ff927"
      },
      "outputs": [
        {
          "output_type": "display_data",
          "data": {
            "text/plain": [
              "<Figure size 640x480 with 1 Axes>"
            ],
            "image/png": "[encoded data removed]"
          },
          "metadata": {}
        }
      ],
      "source": [
        "volumes = postprocess_per_volume(\n",
        "    input_list,pred_list,true_list, loaders[phase].dataset.patient_slice_index,\n",
        "    loaders[phase].dataset.patients,\n",
        ")\n",
        "\n",
        "for p in volumes:\n",
        "  x = volumes[p][0]\n",
        "  y_pred = volumes[p][1]\n",
        "  y_true = volumes[p][2]\n",
        "  for s in range(x.shape[0]):\n",
        "    image = gray2rgb(x[s,1])\n",
        "    image = outline(image,y_pred[s,0], color=[255,0,0])\n",
        "    image = outline(image,y_true[s,0], color=[0,255,0])\n",
        "    plt.imshow(image)\n",
        "    plt.show()\n",
        "    break"
      ]
    },
    {
      "cell_type": "markdown",
      "source": [
        "### Discussion  (<font color='green'>ToDo</font>)\n",
        "1. What actions can we do to further improve the segmentation performance based on the above implementation?\n",
        "\n",
        "2. What potential issues or challenges will be caused by the the above actions?"
      ],
      "metadata": {
        "id": "GxWoOR3QYhrN"
      }
    }
  ],
  "metadata": {
    "accelerator": "GPU",
    "colab": {
      "provenance": []
    },
    "gpuClass": "standard",
    "kernelspec": {
      "display_name": "Python 3",
      "language": "python",
      "name": "python3"
    },
    "language_info": {
      "codemirror_mode": {
        "name": "ipython",
        "version": 3
      },
      "file_extension": ".py",
      "mimetype": "text/x-python",
      "name": "python",
      "nbconvert_exporter": "python",
      "pygments_lexer": "ipython3",
      "version": "3.7.11"
    }
  },
  "nbformat": 4,
  "nbformat_minor": 0
}